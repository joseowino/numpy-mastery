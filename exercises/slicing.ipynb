{
 "cells": [
  {
   "cell_type": "markdown",
   "id": "8f6e43f6-18df-4040-b590-5a595e14c10b",
   "metadata": {},
   "source": [
    "### Objectives\n",
    "*  To learn NumPy indexing/slicing. It allows to access values of the NumPy array efficiently and without a for loop."
   ]
  },
  {
   "cell_type": "markdown",
   "id": "7b7b73fb-a6f0-4569-ae77-fa5eb87f91d1",
   "metadata": {},
   "source": [
    "1. Create a NumPy array of dimension 1 that contains all integers from 1 to 100 ordered."
   ]
  },
  {
   "cell_type": "code",
   "execution_count": 1,
   "id": "80811a4c-20b7-4dca-9bcd-448c39556221",
   "metadata": {},
   "outputs": [
    {
     "name": "stdout",
     "output_type": "stream",
     "text": [
      "[  1   2   3   4   5   6   7   8   9  10  11  12  13  14  15  16  17  18\n",
      "  19  20  21  22  23  24  25  26  27  28  29  30  31  32  33  34  35  36\n",
      "  37  38  39  40  41  42  43  44  45  46  47  48  49  50  51  52  53  54\n",
      "  55  56  57  58  59  60  61  62  63  64  65  66  67  68  69  70  71  72\n",
      "  73  74  75  76  77  78  79  80  81  82  83  84  85  86  87  88  89  90\n",
      "  91  92  93  94  95  96  97  98  99 100]\n"
     ]
    }
   ],
   "source": [
    "import numpy as np\n",
    "\n",
    "arr = np.arange(1, 101, 1)\n",
    "\n",
    "print(arr)"
   ]
  }
 ],
 "metadata": {
  "kernelspec": {
   "display_name": "Python 3 (ipykernel)",
   "language": "python",
   "name": "python3"
  },
  "language_info": {
   "codemirror_mode": {
    "name": "ipython",
    "version": 3
   },
   "file_extension": ".py",
   "mimetype": "text/x-python",
   "name": "python",
   "nbconvert_exporter": "python",
   "pygments_lexer": "ipython3",
   "version": "3.8.20"
  }
 },
 "nbformat": 4,
 "nbformat_minor": 5
}
