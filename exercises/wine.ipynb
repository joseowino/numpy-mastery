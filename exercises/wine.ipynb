{
 "cells": [
  {
   "cell_type": "markdown",
   "id": "0c3c2c0a-fa62-44ff-b743-4f5ba1f36c7f",
   "metadata": {},
   "source": [
    "## Objectives\n",
    "* To perform fundamental data analysis on real data using NumPy."
   ]
  },
  {
   "cell_type": "markdown",
   "id": "ba9ffc4f-81a2-44af-bb8d-c3111348d51d",
   "metadata": {},
   "source": [
    "1. Load the data using genfromtxt, specifying the delimiter as ';' with excluding the headers, and optimize the numpy array size by reducing the data types. Use np.float32 and verify that the resulting numpy array weighs 76800 bytes."
   ]
  },
  {
   "cell_type": "code",
   "execution_count": 2,
   "id": "c13463bb-8009-427d-9c34-8bdbb4ca1b81",
   "metadata": {},
   "outputs": [
    {
     "name": "stdout",
     "output_type": "stream",
     "text": [
      "Wine data shape: (1599, 12)\n",
      "Wine data dtype: float32\n",
      "Wine data size in bytes: 76752\n",
      "\n",
      "Expected size: 76800 bytes\n",
      "Actual size: 76752 bytes\n",
      "Size verification: ✗ FAILED\n",
      "\n",
      "Note: To get exactly 76800 bytes:\n",
      "  - With float32 (4 bytes each): need 19200 elements\n",
      "  - Current shape (1599, 12) = 19188 elements\n",
      "  - For 12 columns: need 1600 rows\n",
      "  - For 13 columns: need 1476 rows\n",
      "\n",
      "First 5 rows of the data:\n",
      "[[7.400e+00 7.000e-01 0.000e+00 1.900e+00 7.600e-02 1.100e+01 3.400e+01\n",
      "  9.978e-01 3.510e+00 5.600e-01 9.400e+00 5.000e+00]\n",
      " [7.800e+00 8.800e-01 0.000e+00 2.600e+00 9.800e-02 2.500e+01 6.700e+01\n",
      "  9.968e-01 3.200e+00 6.800e-01 9.800e+00 5.000e+00]\n",
      " [7.800e+00 7.600e-01 4.000e-02 2.300e+00 9.200e-02 1.500e+01 5.400e+01\n",
      "  9.970e-01 3.260e+00 6.500e-01 9.800e+00 5.000e+00]\n",
      " [1.120e+01 2.800e-01 5.600e-01 1.900e+00 7.500e-02 1.700e+01 6.000e+01\n",
      "  9.980e-01 3.160e+00 5.800e-01 9.800e+00 6.000e+00]\n",
      " [7.400e+00 7.000e-01 0.000e+00 1.900e+00 7.600e-02 1.100e+01 3.400e+01\n",
      "  9.978e-01 3.510e+00 5.600e-01 9.400e+00 5.000e+00]]\n",
      "\n",
      "Number of elements: 19188\n",
      "Bytes per element (float32): 4\n",
      "Total: 19188 × 4 = 76752 bytes\n"
     ]
    }
   ],
   "source": [
    "import numpy as np\n",
    "\n",
    "# Load the data using genfromtxt\n",
    "# - delimiter=';' for semicolon-separated values\n",
    "# - skip_header=1 to exclude the header row\n",
    "# - dtype=np.float32 to optimize memory usage\n",
    "wine_data = np.genfromtxt(\n",
    "    '../data/winequality-red.csv',\n",
    "    delimiter=';',\n",
    "    skip_header=1,\n",
    "    dtype=np.float32\n",
    ")\n",
    "\n",
    "print(\"Wine data shape:\", wine_data.shape)\n",
    "print(\"Wine data dtype:\", wine_data.dtype)\n",
    "print(\"Wine data size in bytes:\", wine_data.nbytes)\n",
    "print()\n",
    "\n",
    "# Verify the size is 76800 bytes\n",
    "expected_size = 76800\n",
    "actual_size = wine_data.nbytes\n",
    "\n",
    "print(f\"Expected size: {expected_size} bytes\")\n",
    "print(f\"Actual size: {actual_size} bytes\")\n",
    "print(f\"Size verification: {'✓ PASSED' if actual_size == expected_size else '✗ FAILED'}\")\n",
    "\n",
    "if actual_size != expected_size:\n",
    "    print(f\"\\nNote: To get exactly {expected_size} bytes:\")\n",
    "    print(f\"  - With float32 (4 bytes each): need {expected_size // 4} elements\")\n",
    "    print(f\"  - Current shape {wine_data.shape} = {wine_data.size} elements\")\n",
    "    print(f\"  - For 12 columns: need {expected_size // 4 // 12} rows\")\n",
    "    print(f\"  - For 13 columns: need {expected_size // 4 // 13} rows\")\n",
    "print()\n",
    "\n",
    "# Display first few rows\n",
    "print(\"First 5 rows of the data:\")\n",
    "print(wine_data[:5])\n",
    "print()\n",
    "\n",
    "# Calculate how the size is determined\n",
    "num_elements = wine_data.size\n",
    "bytes_per_element = wine_data.itemsize\n",
    "print(f\"Number of elements: {num_elements}\")\n",
    "print(f\"Bytes per element (float32): {bytes_per_element}\")\n",
    "print(f\"Total: {num_elements} × {bytes_per_element} = {num_elements * bytes_per_element} bytes\")"
   ]
  },
  {
   "cell_type": "markdown",
   "id": "9586d102-1d0f-4543-9cc3-8531984f3914",
   "metadata": {},
   "source": [
    "2. Display the 2nd, 7th, and 12th rows as a two-dimensional array. Exclude np.nan values if present."
   ]
  },
  {
   "cell_type": "code",
   "execution_count": 3,
   "id": "c4e7c213-7461-4556-8e4d-1ff27f72a993",
   "metadata": {},
   "outputs": [
    {
     "name": "stdout",
     "output_type": "stream",
     "text": [
      "[[7.800e+00 8.800e-01 0.000e+00 2.600e+00 9.800e-02 2.500e+01 6.700e+01\n",
      "  9.968e-01 3.200e+00 6.800e-01 9.800e+00 5.000e+00]\n",
      " [7.900e+00 6.000e-01 6.000e-02 1.600e+00 6.900e-02 1.500e+01 5.900e+01\n",
      "  9.964e-01 3.300e+00 4.600e-01 9.400e+00 5.000e+00]\n",
      " [7.500e+00 5.000e-01 3.600e-01 6.100e+00 7.100e-02 1.700e+01 1.020e+02\n",
      "  9.978e-01 3.350e+00 8.000e-01 1.050e+01 5.000e+00]]\n"
     ]
    }
   ],
   "source": [
    "selected_rows = wine_data[[1, 6, 11], :]\n",
    "\n",
    "clean_rows = np.array([row[~np.isnan(row)] for row in selected_rows])\n",
    "\n",
    "print(clean_rows)"
   ]
  },
  {
   "cell_type": "markdown",
   "id": "f6367f00-1532-4f85-bf7f-5f43aba7eabd",
   "metadata": {},
   "source": [
    "3. Determine if there is any wine in the dataset with an alcohol percentage greater than 20%. Return True or False."
   ]
  },
  {
   "cell_type": "code",
   "execution_count": 5,
   "id": "ec45f172-ca57-44e6-b0f1-924074ea70ca",
   "metadata": {},
   "outputs": [
    {
     "name": "stdout",
     "output_type": "stream",
     "text": [
      "False\n"
     ]
    }
   ],
   "source": [
    "has_high_alcohol = np.any(wine_data[:, -2] > 20)\n",
    "\n",
    "print(has_high_alcohol)"
   ]
  },
  {
   "cell_type": "markdown",
   "id": "8bb8e7ab-2b46-4dcb-9849-34524aebb819",
   "metadata": {},
   "source": [
    "4. Calculate the average alcohol percentage across all wines in the dataset. Exclude np.nan values if present."
   ]
  },
  {
   "cell_type": "code",
   "execution_count": 6,
   "id": "d2813435-cdba-4051-916b-3f2d4cb489fd",
   "metadata": {},
   "outputs": [
    {
     "name": "stdout",
     "output_type": "stream",
     "text": [
      "10.422984\n"
     ]
    }
   ],
   "source": [
    "average_alcohol = np.nanmean(wine_data[:, -2])\n",
    "\n",
    "print(average_alcohol)"
   ]
  },
  {
   "cell_type": "markdown",
   "id": "86664ea9-aa8f-49e0-8328-22e4430a8c11",
   "metadata": {},
   "source": [
    "5. Compute various statistical measures (minimum, maximum, 25th percentile, 50th percentile, 75th percentile and the mean for the pH values)."
   ]
  },
  {
   "cell_type": "code",
   "execution_count": 11,
   "id": "82659aee-ea9c-4936-8d87-756c5207843e",
   "metadata": {},
   "outputs": [
    {
     "name": "stdout",
     "output_type": "stream",
     "text": [
      "Minimum pH: 2.740000009536743\n",
      "Maximum pH: 4.010000228881836\n",
      "25th percentile pH: 3.2100000381469727\n",
      "50th percentile (median) pH: 3.309999942779541\n",
      "75th percentile pH: 3.4000000953674316\n",
      "Mean pH: 3.3111133575439453\n"
     ]
    }
   ],
   "source": [
    "col_ph = wine_data[:, -4]\n",
    "ph_values = col_ph[~np.isnan(col_ph)]\n",
    "\n",
    "# Compute statistics\n",
    "min_ph = np.min(ph_values)\n",
    "max_ph = np.max(ph_values)\n",
    "q25_ph = np.percentile(ph_values, 25)\n",
    "q50_ph = np.percentile(ph_values, 50)  # same as median\n",
    "q75_ph = np.percentile(ph_values, 75)\n",
    "mean_ph = np.mean(ph_values)\n",
    "\n",
    "# Display results\n",
    "print(f\"Minimum pH: {min_ph}\")\n",
    "print(f\"Maximum pH: {max_ph}\")\n",
    "print(f\"25th percentile pH: {q25_ph}\")\n",
    "print(f\"50th percentile (median) pH: {q50_ph}\")\n",
    "print(f\"75th percentile pH: {q75_ph}\")\n",
    "print(f\"Mean pH: {mean_ph}\")"
   ]
  }
 ],
 "metadata": {
  "kernelspec": {
   "display_name": "Python 3 (ipykernel)",
   "language": "python",
   "name": "python3"
  },
  "language_info": {
   "codemirror_mode": {
    "name": "ipython",
    "version": 3
   },
   "file_extension": ".py",
   "mimetype": "text/x-python",
   "name": "python",
   "nbconvert_exporter": "python",
   "pygments_lexer": "ipython3",
   "version": "3.8.20"
  }
 },
 "nbformat": 4,
 "nbformat_minor": 5
}
