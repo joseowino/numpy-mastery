{
 "cells": [
  {
   "cell_type": "markdown",
   "id": "ec9a8900-7d9e-4b29-a094-5523f968e76f",
   "metadata": {},
   "source": [
    "## Objectives\n",
    "* To handle missing data in NumPy and manipulate arrays effectively."
   ]
  },
  {
   "cell_type": "markdown",
   "id": "7964552e-8355-4db7-a360-2407d0a4d8bf",
   "metadata": {},
   "source": [
    "Let's consider a 2-dimensional array containing grades from the last two exams. Some students missed the first exam, so their grades are replaced with NaN.\n",
    "\n",
    "To simulate this scenario, we'll create a mock dataset using NumPy. Here's a snippet of code to generate this dataset:"
   ]
  },
  {
   "cell_type": "code",
   "execution_count": 1,
   "id": "c05c1e41-6337-45d7-a4c7-16d4b71118f9",
   "metadata": {},
   "outputs": [
    {
     "name": "stdout",
     "output_type": "stream",
     "text": [
      "[[ 7.  1.]\n",
      " [nan  2.]\n",
      " [nan  8.]\n",
      " [ 9.  3.]\n",
      " [ 8.  9.]\n",
      " [nan  2.]\n",
      " [ 8.  2.]\n",
      " [nan  6.]\n",
      " [ 9.  2.]\n",
      " [ 8.  5.]]\n"
     ]
    }
   ],
   "source": [
    "import numpy as np\n",
    "\n",
    "generator = np.random.default_rng(123)\n",
    "grades = np.round(generator.uniform(low = 0.0, high = 10.0, size = (10, 2)))\n",
    "grades[[1,2,5,7], [0,0,0,0]] = np.nan\n",
    "print(grades)"
   ]
  },
  {
   "cell_type": "markdown",
   "id": "c6a4e414-f2fb-419e-8acf-146e62b15c01",
   "metadata": {},
   "source": [
    "1.    Using np.where, create a third column that takes the grade of the first exam if available; otherwise, it uses the grade from the second exam. Add this column as the third column of the array.\n",
    "\n",
    "Using a for loop or if/else statement is not allowed in this exercise.\n",
    "\n",
    "Expected output:\n",
    "\n",
    "```\n",
    "[[ 7.  1.  7.]\n",
    " [nan  2.  2.]\n",
    " [nan  8.  8.]\n",
    " [ 9.  3.  9.]\n",
    " [ 8.  9.  8.]\n",
    " [nan  2.  2.]\n",
    " [ 8.  2.  8.]\n",
    " [nan  6.  6.]\n",
    " [ 9.  2.  9.]\n",
    " [ 8.  5.  8.]]"
   ]
  },
  {
   "cell_type": "code",
   "execution_count": 5,
   "id": "df625291-6d09-4302-a61f-070272b7d8c3",
   "metadata": {},
   "outputs": [
    {
     "name": "stdout",
     "output_type": "stream",
     "text": [
      "[[ 7.  1.  7.]\n",
      " [nan  2.  2.]\n",
      " [nan  8.  8.]\n",
      " [ 9.  3.  9.]\n",
      " [ 8.  9.  8.]\n",
      " [nan  2.  2.]\n",
      " [ 8.  2.  8.]\n",
      " [nan  6.  6.]\n",
      " [ 9.  2.  9.]\n",
      " [ 8.  5.  8.]]\n"
     ]
    }
   ],
   "source": [
    "col3 = np.where(np.isnan(grades[:, 0]), grades[:, 1], grades[:, 0])\n",
    "result = np.column_stack((grades, col3))\n",
    "\n",
    "print(result)"
   ]
  }
 ],
 "metadata": {
  "kernelspec": {
   "display_name": "Python 3 (ipykernel)",
   "language": "python",
   "name": "python3"
  },
  "language_info": {
   "codemirror_mode": {
    "name": "ipython",
    "version": 3
   },
   "file_extension": ".py",
   "mimetype": "text/x-python",
   "name": "python",
   "nbconvert_exporter": "python",
   "pygments_lexer": "ipython3",
   "version": "3.8.20"
  }
 },
 "nbformat": 4,
 "nbformat_minor": 5
}
