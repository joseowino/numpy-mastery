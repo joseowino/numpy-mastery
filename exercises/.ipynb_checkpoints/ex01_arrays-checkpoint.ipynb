{
 "cells": [
  {
   "cell_type": "markdown",
   "id": "aee2bb97-ccb5-4311-b0cd-228a814db89d",
   "metadata": {},
   "source": [
    "## Objective\n",
    "\n",
    "### * Familiarize yourself with incorporating various Python data types into NumPy arrays"
   ]
  },
  {
   "cell_type": "markdown",
   "id": "f650f137-89b2-4bcf-89ee-978cce96cd97",
   "metadata": {},
   "source": [
    "1. Create a NumPy array that contains: an integer, a float, a string, a dictionary, a list, a tuple, a set and a boolean. Add the following code at the end of your python file or in a cell of the jupyter notebook:\n",
    "\n",
    "```\n",
    "    for i in your_np_array:\n",
    "    print(type(i))\n",
    "```"
   ]
  },
  {
   "cell_type": "code",
   "execution_count": null,
   "id": "543a6636-5526-4f6b-bba2-753755de0ee5",
   "metadata": {},
   "outputs": [],
   "source": []
  }
 ],
 "metadata": {
  "kernelspec": {
   "display_name": "Python 3 (ipykernel)",
   "language": "python",
   "name": "python3"
  },
  "language_info": {
   "codemirror_mode": {
    "name": "ipython",
    "version": 3
   },
   "file_extension": ".py",
   "mimetype": "text/x-python",
   "name": "python",
   "nbconvert_exporter": "python",
   "pygments_lexer": "ipython3",
   "version": "3.8.20"
  }
 },
 "nbformat": 4,
 "nbformat_minor": 5
}
