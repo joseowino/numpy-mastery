{
 "cells": [
  {
   "cell_type": "markdown",
   "id": "e65ec9ce-a985-48bb-97c3-a433e4f1e603",
   "metadata": {},
   "source": [
    "## Objectives\n",
    "* To learn to generate random data"
   ]
  },
  {
   "cell_type": "markdown",
   "id": "01b7b3ee-423d-4301-8553-56c64bd9eede",
   "metadata": {},
   "source": [
    "1. Set the seed to 888"
   ]
  },
  {
   "cell_type": "code",
   "execution_count": 46,
   "id": "a09b4ba0-f3d9-4026-92ca-1e0fada5eff8",
   "metadata": {},
   "outputs": [
    {
     "name": "stdout",
     "output_type": "stream",
     "text": [
      "Seed range set successfully\n"
     ]
    }
   ],
   "source": [
    "import numpy as np\n",
    "from numpy.random import default_rng\n",
    "\n",
    "rng = default_rng(seed = 88)\n",
    "\n",
    "print(\"Seed range set successfully\")"
   ]
  },
  {
   "cell_type": "code",
   "execution_count": null,
   "id": "27bc4cbd-337d-45ec-8337-6ea611fb162f",
   "metadata": {},
   "outputs": [],
   "source": []
  }
 ],
 "metadata": {
  "kernelspec": {
   "display_name": "Python 3 (ipykernel)",
   "language": "python",
   "name": "python3"
  },
  "language_info": {
   "codemirror_mode": {
    "name": "ipython",
    "version": 3
   },
   "file_extension": ".py",
   "mimetype": "text/x-python",
   "name": "python",
   "nbconvert_exporter": "python",
   "pygments_lexer": "ipython3",
   "version": "3.8.20"
  }
 },
 "nbformat": 4,
 "nbformat_minor": 5
}
