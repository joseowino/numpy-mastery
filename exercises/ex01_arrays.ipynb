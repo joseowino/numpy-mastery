{
 "cells": [
  {
   "cell_type": "markdown",
   "id": "aee2bb97-ccb5-4311-b0cd-228a814db89d",
   "metadata": {},
   "source": [
    "## Objective\n",
    "\n",
    "### * To understand practical usage of NumPy. "
   ]
  },
  {
   "cell_type": "markdown",
   "id": "f650f137-89b2-4bcf-89ee-978cce96cd97",
   "metadata": {},
   "source": [
    "## Exercise 1: Your first NumPy array\n",
    "\n",
    "### Objective\n",
    "* To familiarize yourself with incorporating various Python data types into NumPy arrays.\n",
    "\n",
    "1. Create a NumPy array that contains: an integer, a float, a string, a dictionary, a list, a tuple, a set and a boolean. Add the following code at the end of your python file or in a cell of the jupyter notebook:\n",
    "\n",
    "```\n",
    "    for i in your_np_array:\n",
    "    print(type(i))\n",
    "```"
   ]
  },
  {
   "cell_type": "code",
   "execution_count": 2,
   "id": "543a6636-5526-4f6b-bba2-753755de0ee5",
   "metadata": {},
   "outputs": [
    {
     "name": "stdout",
     "output_type": "stream",
     "text": [
      "Library imported successfully\n"
     ]
    }
   ],
   "source": [
    "# Import Library\n",
    "\n",
    "import numpy as np\n",
    "\n",
    "print(\"Library imported successfully\")"
   ]
  },
  {
   "cell_type": "code",
   "execution_count": 10,
   "id": "5d53a0b7-fde4-42ca-8c5b-b6dd7f92962a",
   "metadata": {},
   "outputs": [
    {
     "name": "stdout",
     "output_type": "stream",
     "text": [
      "<class 'int'>\n",
      "<class 'float'>\n",
      "<class 'str'>\n",
      "<class 'dict'>\n",
      "<class 'tuple'>\n"
     ]
    }
   ],
   "source": [
    "import numpy as np\n",
    "\n",
    "arr = np.array([2, 3.4, \"Numpy\", {-1: \"Not tested\", 0: \"Fail\", 1: \"Pass\"}, (1, 2, 3)], dtype=object)\n",
    "\n",
    "for i in arr:\n",
    "    print(type(i))"
   ]
  },
  {
   "cell_type": "markdown",
   "id": "ea49d45b-027b-4c35-983e-3250a0b454b6",
   "metadata": {},
   "source": [
    "## Exercise 2: Zeros\n",
    "\n",
    "### Objectives\n",
    "* to learn to create a NumPy array with 0s."
   ]
  },
  {
   "cell_type": "code",
   "execution_count": null,
   "id": "fec9c1f5-b5de-4918-b294-dcdfcb7f9053",
   "metadata": {},
   "outputs": [],
   "source": [
    "Create a NumPy array of dimension 300 with zeros without filling it manually"
   ]
  }
 ],
 "metadata": {
  "kernelspec": {
   "display_name": "Python 3 (ipykernel)",
   "language": "python",
   "name": "python3"
  },
  "language_info": {
   "codemirror_mode": {
    "name": "ipython",
    "version": 3
   },
   "file_extension": ".py",
   "mimetype": "text/x-python",
   "name": "python",
   "nbconvert_exporter": "python",
   "pygments_lexer": "ipython3",
   "version": "3.8.20"
  }
 },
 "nbformat": 4,
 "nbformat_minor": 5
}
