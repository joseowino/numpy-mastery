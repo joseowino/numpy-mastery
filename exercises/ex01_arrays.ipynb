{
 "cells": [
  {
   "cell_type": "markdown",
   "id": "f650f137-89b2-4bcf-89ee-978cce96cd97",
   "metadata": {},
   "source": [
    "### Objective\n",
    "* To familiarize yourself with incorporating various Python data types into NumPy arrays.\n",
    "\n",
    "1. Create a NumPy array that contains: an integer, a float, a string, a dictionary, a list, a tuple, a set and a boolean. Add the following code at the end of your python file or in a cell of the jupyter notebook:\n",
    "\n",
    "```\n",
    "    for i in your_np_array:\n",
    "    print(type(i))\n",
    "```"
   ]
  },
  {
   "cell_type": "code",
   "execution_count": 4,
   "id": "5d53a0b7-fde4-42ca-8c5b-b6dd7f92962a",
   "metadata": {},
   "outputs": [
    {
     "name": "stdout",
     "output_type": "stream",
     "text": [
      "<class 'int'>\n",
      "<class 'float'>\n",
      "<class 'str'>\n",
      "<class 'dict'>\n",
      "<class 'tuple'>\n"
     ]
    }
   ],
   "source": [
    "import numpy as np\n",
    "\n",
    "arr = np.array([2, 3.4, \"Numpy\", {-1: \"Not tested\", 0: \"Fail\", 1: \"Pass\"}, (1, 2, 3)], dtype=object)\n",
    "\n",
    "for i in arr:\n",
    "    print(type(i))"
   ]
  },
  {
   "cell_type": "markdown",
   "id": "f874b0ab-6230-4dd6-be5b-0e2a2815ffa0",
   "metadata": {},
   "source": [
    "## Exercise 3: Slicing\n",
    "\n",
    "### Objectives\n",
    "*  To learn NumPy indexing/slicing. It allows to access values of the NumPy array efficiently and without a for loop."
   ]
  },
  {
   "cell_type": "markdown",
   "id": "958a7a54-ecd6-4883-9d86-b00a36ed5231",
   "metadata": {},
   "source": [
    "1. Create a NumPy array of dimension 1 that contains all integers from 1 to 100 ordered."
   ]
  },
  {
   "cell_type": "code",
   "execution_count": 22,
   "id": "a68d9605-01de-4213-b5a5-5f93b3a80d37",
   "metadata": {},
   "outputs": [
    {
     "name": "stdout",
     "output_type": "stream",
     "text": [
      "[  1   2   3   4   5   6   7   8   9  10  11  12  13  14  15  16  17  18\n",
      "  19  20  21  22  23  24  25  26  27  28  29  30  31  32  33  34  35  36\n",
      "  37  38  39  40  41  42  43  44  45  46  47  48  49  50  51  52  53  54\n",
      "  55  56  57  58  59  60  61  62  63  64  65  66  67  68  69  70  71  72\n",
      "  73  74  75  76  77  78  79  80  81  82  83  84  85  86  87  88  89  90\n",
      "  91  92  93  94  95  96  97  98  99 100]\n"
     ]
    }
   ],
   "source": [
    "import numpy as np\n",
    "\n",
    "arr = np.arange(1, 101, 1)\n",
    "\n",
    "print(arr)"
   ]
  },
  {
   "cell_type": "markdown",
   "id": "b3670365-8611-4c58-b635-ea85ad658367",
   "metadata": {},
   "source": [
    "2. Without using a for loop and using the array created in Q1, create an array that contain all odd integers. The expected output is:\n",
    "\n",
    "```\n",
    "[ 1  3  5  7  9 11 13 15 17 19 21 23 25 27 29 31 33 35 37 39 41 43 45 47\n",
    " 49 51 53 55 57 59 61 63 65 67 69 71 73 75 77 79 81 83 85 87 89 91 93 95\n",
    " 97 99]\n",
    " ```"
   ]
  },
  {
   "cell_type": "code",
   "execution_count": 30,
   "id": "f1936c98-0369-4d10-a4ea-6cbff0787714",
   "metadata": {},
   "outputs": [
    {
     "name": "stdout",
     "output_type": "stream",
     "text": [
      "[ 1  3  5  7  9 11 13 15 17 19 21 23 25 27 29 31 33 35 37 39 41 43 45 47\n",
      " 49 51 53 55 57 59 61 63 65 67 69 71 73 75 77 79 81 83 85 87 89 91 93 95\n",
      " 97 99]\n"
     ]
    }
   ],
   "source": [
    "arr_odd = arr[:: 2]\n",
    "\n",
    "print(arr_odd)"
   ]
  },
  {
   "cell_type": "markdown",
   "id": "0ca88eca-f235-4356-8439-90ab272847d7",
   "metadata": {},
   "source": [
    "3. Without using a for loop and using the array created in Q1, create an array that contain all even integers reversed. The expected output is:\n",
    "\n",
    "   ```\n",
    "   [100  98  96  94  92  90  88  86  84  82  80  78  76  74  72  70  68  66\n",
    "   64  62  60  58  56  54  52  50  48  46  44  42  40  38  36  34  32  30\n",
    "   28  26  24  22  20  18  16  14  12  10   8   6   4   2]\n",
    "   ```"
   ]
  },
  {
   "cell_type": "code",
   "execution_count": 33,
   "id": "7fbf2d7a-df57-4f1e-ad69-f71a426ce943",
   "metadata": {},
   "outputs": [
    {
     "name": "stdout",
     "output_type": "stream",
     "text": [
      "[100  98  96  94  92  90  88  86  84  82  80  78  76  74  72  70  68  66\n",
      "  64  62  60  58  56  54  52  50  48  46  44  42  40  38  36  34  32  30\n",
      "  28  26  24  22  20  18  16  14  12  10   8   6   4   2]\n"
     ]
    }
   ],
   "source": [
    "arr_even_reverse = arr[:: -2]\n",
    "\n",
    "print(arr_even_reverse)"
   ]
  },
  {
   "cell_type": "markdown",
   "id": "906541bd-1123-4668-b081-7f88e6f9bb58",
   "metadata": {},
   "source": [
    "4. Using array of Q1, set the value of every 3 elements of the list (starting with the second) to 0. The expected output is:\n",
    "\n",
    "```\n",
    "[ 1   0   3   4   0   6   7   0   9  10   0  12  13   0  15  16   0  18\n",
    "  19   0  21  22   0  24  25   0  27  28   0  30  31   0  33  34   0  36\n",
    "  37   0  39  40   0  42  43   0  45  46   0  48  49   0  51  52   0  54\n",
    "  55   0  57  58   0  60  61   0  63  64   0  66  67   0  69  70   0  72\n",
    "  73   0  75  76   0  78  79   0  81  82   0  84  85   0  87  88   0  90\n",
    "  91   0  93  94   0  96  97   0  99 100]  \n",
    "```"
   ]
  },
  {
   "cell_type": "code",
   "execution_count": 38,
   "id": "6c86f6ee-602e-4665-9e97-15bf59e0cfaa",
   "metadata": {},
   "outputs": [
    {
     "name": "stdout",
     "output_type": "stream",
     "text": [
      "[  1   0   3   4   0   6   7   0   9  10   0  12  13   0  15  16   0  18\n",
      "  19   0  21  22   0  24  25   0  27  28   0  30  31   0  33  34   0  36\n",
      "  37   0  39  40   0  42  43   0  45  46   0  48  49   0  51  52   0  54\n",
      "  55   0  57  58   0  60  61   0  63  64   0  66  67   0  69  70   0  72\n",
      "  73   0  75  76   0  78  79   0  81  82   0  84  85   0  87  88   0  90\n",
      "  91   0  93  94   0  96  97   0  99 100]\n"
     ]
    }
   ],
   "source": [
    "arr[1::3] = 0\n",
    "\n",
    "print(arr)"
   ]
  },
  {
   "cell_type": "code",
   "execution_count": null,
   "id": "aa3fee2a-5fe6-4a37-b046-bec038f9f3db",
   "metadata": {},
   "outputs": [],
   "source": []
  }
 ],
 "metadata": {
  "kernelspec": {
   "display_name": "Python 3 (ipykernel)",
   "language": "python",
   "name": "python3"
  },
  "language_info": {
   "codemirror_mode": {
    "name": "ipython",
    "version": 3
   },
   "file_extension": ".py",
   "mimetype": "text/x-python",
   "name": "python",
   "nbconvert_exporter": "python",
   "pygments_lexer": "ipython3",
   "version": "3.8.20"
  }
 },
 "nbformat": 4,
 "nbformat_minor": 5
}
