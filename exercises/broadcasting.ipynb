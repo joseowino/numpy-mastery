{
 "cells": [
  {
   "cell_type": "markdown",
   "id": "72dc6f51-bd3e-454a-ae52-6adf3d094172",
   "metadata": {},
   "source": [
    "## Objectives\n",
    "* to learn to access values of n-dimensional arrays efficiently."
   ]
  },
  {
   "cell_type": "markdown",
   "id": "945ece95-412b-4011-9068-dd8bf278c311",
   "metadata": {},
   "source": [
    "Using a for loop is not allowed in this exercise."
   ]
  },
  {
   "cell_type": "markdown",
   "id": "005a58df-9486-4d94-acea-278b00a7b8c9",
   "metadata": {},
   "source": [
    "1. Generate a 2-dimensional array of size 9x9, with all elements initialized to 1 and of type int8."
   ]
  },
  {
   "cell_type": "code",
   "execution_count": 115,
   "id": "ed678823-9c35-4945-9c6e-3e452e8a9797",
   "metadata": {},
   "outputs": [
    {
     "name": "stdout",
     "output_type": "stream",
     "text": [
      "[[1 1 1 1 1 1 1 1 1]\n",
      " [1 1 1 1 1 1 1 1 1]\n",
      " [1 1 1 1 1 1 1 1 1]\n",
      " [1 1 1 1 1 1 1 1 1]\n",
      " [1 1 1 1 1 1 1 1 1]\n",
      " [1 1 1 1 1 1 1 1 1]\n",
      " [1 1 1 1 1 1 1 1 1]\n",
      " [1 1 1 1 1 1 1 1 1]\n",
      " [1 1 1 1 1 1 1 1 1]]\n"
     ]
    }
   ],
   "source": [
    "import numpy as np\n",
    "\n",
    "arr = np.ones((9, 9), dtype=np.int8)\n",
    "\n",
    "print(arr)"
   ]
  },
  {
   "cell_type": "markdown",
   "id": "d110715c-99da-487c-b9ac-7a81042c3e81",
   "metadata": {},
   "source": [
    "Using slicing, create the following array:\n",
    "\n",
    "```\n",
    "array([[1, 1, 1, 1, 1, 1, 1, 1, 1],\n",
    "    [1, 0, 0, 0, 0, 0, 0, 0, 1],\n",
    "    [1, 0, 1, 1, 1, 1, 1, 0, 1],\n",
    "    [1, 0, 1, 0, 0, 0, 1, 0, 1],\n",
    "    [1, 0, 1, 0, 1, 0, 1, 0, 1],\n",
    "    [1, 0, 1, 0, 0, 0, 1, 0, 1],\n",
    "    [1, 0, 1, 1, 1, 1, 1, 0, 1],\n",
    "    [1, 0, 0, 0, 0, 0, 0, 0, 1],\n",
    "    [1, 1, 1, 1, 1, 1, 1, 1, 1]], dtype=np.int8)"
   ]
  },
  {
   "cell_type": "code",
   "execution_count": 119,
   "id": "8ebddcda-4211-406c-9e7c-fc309c64b535",
   "metadata": {},
   "outputs": [
    {
     "name": "stdout",
     "output_type": "stream",
     "text": [
      "[[1 1 1 1 1 1 1 1 1]\n",
      " [1 0 0 0 0 0 0 0 1]\n",
      " [1 0 1 1 1 1 1 0 1]\n",
      " [1 0 1 0 0 0 1 0 1]\n",
      " [1 0 1 0 1 0 1 0 1]\n",
      " [1 0 1 0 0 0 1 0 1]\n",
      " [1 0 1 1 1 1 1 0 1]\n",
      " [1 0 0 0 0 0 0 0 1]\n",
      " [1 1 1 1 1 1 1 1 1]]\n"
     ]
    }
   ],
   "source": [
    "arr[1:8, 1:8] = 0\n",
    "arr[2:7, 2:7] = 1\n",
    "arr[3:6, 3:6] = 0\n",
    "arr[4:5, 4:5] = 1\n",
    "\n",
    "print(arr)"
   ]
  },
  {
   "cell_type": "markdown",
   "id": "087fdfe2-51fe-4e83-8cde-5658d9c28942",
   "metadata": {},
   "source": [
    "3. Using broadcasting create an output matrix based on the following two arrays:\n",
    "\n",
    "```\n",
    "array_1 = np.array([1,2,3,4,5], dytpe=np.int8)\n",
    "array_2 = np.array([1,2,3], dytpe=np.int8)"
   ]
  },
  {
   "cell_type": "code",
   "execution_count": 143,
   "id": "a8b8a75b-26d0-4da9-a6c8-bb351122314f",
   "metadata": {},
   "outputs": [
    {
     "name": "stdout",
     "output_type": "stream",
     "text": [
      "array_1 shape: (5,)\n",
      "array_1: [1 2 3 4 5]\n",
      "\n",
      "array_2 shape: (3,)\n",
      "array_2: [1 2 3]\n",
      "\n",
      "==================================================\n",
      "BROADCASTING EXAMPLES\n",
      "==================================================\n",
      "\n",
      "1. Addition (array_1_col + array_2):\n",
      "[[2 3 4]\n",
      " [3 4 5]\n",
      " [4 5 6]\n",
      " [5 6 7]\n",
      " [6 7 8]]\n",
      "\n",
      "2. Multiplication (array_1_col * array_2):\n",
      "[[ 1  2  3]\n",
      " [ 2  4  6]\n",
      " [ 3  6  9]\n",
      " [ 4  8 12]\n",
      " [ 5 10 15]]\n",
      "\n",
      "3. Subtraction (array_1_col - array_2):\n",
      "[[ 0 -1 -2]\n",
      " [ 1  0 -1]\n",
      " [ 2  1  0]\n",
      " [ 3  2  1]\n",
      " [ 4  3  2]]\n",
      "\n",
      "4. Division (array_1_col / array_2):\n",
      "[[1.         0.5        0.33333333]\n",
      " [2.         1.         0.66666667]\n",
      " [3.         1.5        1.        ]\n",
      " [4.         2.         1.33333333]\n",
      " [5.         2.5        1.66666667]]\n",
      "\n",
      "==================================================\n",
      "Output matrix shape: (5, 3)\n",
      "Output matrix dtype: int8\n"
     ]
    }
   ],
   "source": [
    "import numpy as np\n",
    "\n",
    "# Create the two arrays (note: fixed typo 'dytpe' -> 'dtype')\n",
    "array_1 = np.array([1, 2, 3, 4, 5], dtype=np.int8)\n",
    "array_2 = np.array([1, 2, 3], dtype=np.int8)\n",
    "\n",
    "print(\"array_1 shape:\", array_1.shape)\n",
    "print(\"array_1:\", array_1)\n",
    "print(\"\\narray_2 shape:\", array_2.shape)\n",
    "print(\"array_2:\", array_2)\n",
    "\n",
    "# Reshape arrays to enable broadcasting\n",
    "# array_1 becomes a column vector (5, 1)\n",
    "# array_2 remains a row vector (3,)\n",
    "array_1_col = array_1[:, np.newaxis]  # or array_1.reshape(-1, 1)\n",
    "\n",
    "print(\"\\n\" + \"=\"*50)\n",
    "print(\"BROADCASTING EXAMPLES\")\n",
    "print(\"=\"*50)\n",
    "\n",
    "# Example 1: Addition\n",
    "print(\"\\n1. Addition (array_1_col + array_2):\")\n",
    "result_add = array_1_col + array_2\n",
    "print(result_add)\n",
    "\n",
    "# Example 2: Multiplication\n",
    "print(\"\\n2. Multiplication (array_1_col * array_2):\")\n",
    "result_mul = array_1_col * array_2\n",
    "print(result_mul)\n",
    "\n",
    "# Example 3: Outer product-style operation\n",
    "print(\"\\n3. Subtraction (array_1_col - array_2):\")\n",
    "result_sub = array_1_col - array_2\n",
    "print(result_sub)\n",
    "\n",
    "# Example 4: Division\n",
    "print(\"\\n4. Division (array_1_col / array_2):\")\n",
    "result_div = array_1_col / array_2\n",
    "print(result_div)\n",
    "\n",
    "print(\"\\n\" + \"=\"*50)\n",
    "print(\"Output matrix shape:\", result_add.shape)\n",
    "print(\"Output matrix dtype:\", result_add.dtype)"
   ]
  }
 ],
 "metadata": {
  "kernelspec": {
   "display_name": "Python 3 (ipykernel)",
   "language": "python",
   "name": "python3"
  },
  "language_info": {
   "codemirror_mode": {
    "name": "ipython",
    "version": 3
   },
   "file_extension": ".py",
   "mimetype": "text/x-python",
   "name": "python",
   "nbconvert_exporter": "python",
   "pygments_lexer": "ipython3",
   "version": "3.8.20"
  }
 },
 "nbformat": 4,
 "nbformat_minor": 5
}
