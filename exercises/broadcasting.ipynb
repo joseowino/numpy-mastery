{
 "cells": [
  {
   "cell_type": "markdown",
   "id": "72dc6f51-bd3e-454a-ae52-6adf3d094172",
   "metadata": {},
   "source": [
    "## Objectives\n",
    "* to learn to access values of n-dimensional arrays efficiently."
   ]
  },
  {
   "cell_type": "markdown",
   "id": "945ece95-412b-4011-9068-dd8bf278c311",
   "metadata": {},
   "source": [
    "Using a for loop is not allowed in this exercise."
   ]
  },
  {
   "cell_type": "markdown",
   "id": "005a58df-9486-4d94-acea-278b00a7b8c9",
   "metadata": {},
   "source": [
    "1. Generate a 2-dimensional array of size 9x9, with all elements initialized to 1 and of type int8."
   ]
  },
  {
   "cell_type": "code",
   "execution_count": 112,
   "id": "ed678823-9c35-4945-9c6e-3e452e8a9797",
   "metadata": {},
   "outputs": [
    {
     "name": "stdout",
     "output_type": "stream",
     "text": [
      "[[1 1 1 1 1 1 1 1 1]\n",
      " [1 1 1 1 1 1 1 1 1]\n",
      " [1 1 1 1 1 1 1 1 1]\n",
      " [1 1 1 1 1 1 1 1 1]\n",
      " [1 1 1 1 1 1 1 1 1]\n",
      " [1 1 1 1 1 1 1 1 1]\n",
      " [1 1 1 1 1 1 1 1 1]\n",
      " [1 1 1 1 1 1 1 1 1]\n",
      " [1 1 1 1 1 1 1 1 1]]\n"
     ]
    }
   ],
   "source": [
    "import numpy as np\n",
    "\n",
    "arr = np.ones((9, 9), dtype=np.int8)\n",
    "\n",
    "print(arr)"
   ]
  },
  {
   "cell_type": "markdown",
   "id": "d110715c-99da-487c-b9ac-7a81042c3e81",
   "metadata": {},
   "source": [
    "Using slicing, create the following array:\n",
    "\n",
    "```\n",
    "array([[1, 1, 1, 1, 1, 1, 1, 1, 1],\n",
    "    [1, 0, 0, 0, 0, 0, 0, 0, 1],\n",
    "    [1, 0, 1, 1, 1, 1, 1, 0, 1],\n",
    "    [1, 0, 1, 0, 0, 0, 1, 0, 1],\n",
    "    [1, 0, 1, 0, 1, 0, 1, 0, 1],\n",
    "    [1, 0, 1, 0, 0, 0, 1, 0, 1],\n",
    "    [1, 0, 1, 1, 1, 1, 1, 0, 1],\n",
    "    [1, 0, 0, 0, 0, 0, 0, 0, 1],\n",
    "    [1, 1, 1, 1, 1, 1, 1, 1, 1]], dtype=np.int8)"
   ]
  },
  {
   "cell_type": "code",
   "execution_count": 114,
   "id": "8ebddcda-4211-406c-9e7c-fc309c64b535",
   "metadata": {},
   "outputs": [
    {
     "name": "stdout",
     "output_type": "stream",
     "text": [
      "[[1 1 1 1 1 1 1 1 1]\n",
      " [1 0 0 0 0 0 0 0 1]\n",
      " [1 0 1 1 1 1 1 0 1]\n",
      " [1 0 1 0 0 0 1 0 1]\n",
      " [1 0 1 0 0 0 1 0 1]\n",
      " [1 0 1 0 0 0 1 0 1]\n",
      " [1 0 1 1 1 1 1 0 1]\n",
      " [1 0 0 0 0 0 0 0 1]\n",
      " [1 1 1 1 1 1 1 1 1]]\n"
     ]
    }
   ],
   "source": [
    "arr[1:8, 1:8] = 0\n",
    "arr[2:7, 2:7] = 1\n",
    "arr[3:6, 3:6] = 0\n",
    "arr[4:4, 4:4] = 1\n",
    "\n",
    "print(arr)"
   ]
  },
  {
   "cell_type": "code",
   "execution_count": null,
   "id": "8104920c-7160-4401-9669-5060ffa8382e",
   "metadata": {},
   "outputs": [],
   "source": []
  }
 ],
 "metadata": {
  "kernelspec": {
   "display_name": "Python 3 (ipykernel)",
   "language": "python",
   "name": "python3"
  },
  "language_info": {
   "codemirror_mode": {
    "name": "ipython",
    "version": 3
   },
   "file_extension": ".py",
   "mimetype": "text/x-python",
   "name": "python",
   "nbconvert_exporter": "python",
   "pygments_lexer": "ipython3",
   "version": "3.8.20"
  }
 },
 "nbformat": 4,
 "nbformat_minor": 5
}
