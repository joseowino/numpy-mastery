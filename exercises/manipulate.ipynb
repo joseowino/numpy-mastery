{
 "cells": [
  {
   "cell_type": "markdown",
   "id": "2fc17d98-39fe-45f9-85c3-810d3950df55",
   "metadata": {},
   "source": [
    "## Objective\n",
    "\n",
    "* To learn to concatenate and reshape arrays."
   ]
  },
  {
   "cell_type": "markdown",
   "id": "c113e1ef-a668-457d-90a5-c01529de6734",
   "metadata": {},
   "source": [
    "1. Generate an array with integers from 1 to 50: array([1,...,50])"
   ]
  },
  {
   "cell_type": "code",
   "execution_count": 3,
   "id": "99bbd001-049a-4c93-bd87-53f271f5d0fc",
   "metadata": {},
   "outputs": [
    {
     "name": "stdout",
     "output_type": "stream",
     "text": [
      "numpy imported successfully\n"
     ]
    }
   ],
   "source": [
    "import numpy as np\n",
    "\n",
    "print(\"numpy imported successfully\")"
   ]
  },
  {
   "cell_type": "code",
   "execution_count": 8,
   "id": "1c7788f1-4d50-4693-8fbe-e3cd63b0ca6f",
   "metadata": {
    "jupyter": {
     "source_hidden": true
    }
   },
   "outputs": [
    {
     "ename": "SyntaxError",
     "evalue": "invalid syntax (912251374.py, line 1)",
     "output_type": "error",
     "traceback": [
      "\u001b[0;36m  Cell \u001b[0;32mIn[8], line 1\u001b[0;36m\u001b[0m\n\u001b[0;31m    arr = [:51]\u001b[0m\n\u001b[0m           ^\u001b[0m\n\u001b[0;31mSyntaxError\u001b[0m\u001b[0;31m:\u001b[0m invalid syntax\n"
     ]
    }
   ],
   "source": [
    "arr = [::51]\n",
    "\n",
    "print(arr)"
   ]
  }
 ],
 "metadata": {
  "kernelspec": {
   "display_name": "Python 3 (ipykernel)",
   "language": "python",
   "name": "python3"
  },
  "language_info": {
   "codemirror_mode": {
    "name": "ipython",
    "version": 3
   },
   "file_extension": ".py",
   "mimetype": "text/x-python",
   "name": "python",
   "nbconvert_exporter": "python",
   "pygments_lexer": "ipython3",
   "version": "3.8.20"
  }
 },
 "nbformat": 4,
 "nbformat_minor": 5
}
