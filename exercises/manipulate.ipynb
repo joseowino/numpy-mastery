{
 "cells": [
  {
   "cell_type": "markdown",
   "id": "2fc17d98-39fe-45f9-85c3-810d3950df55",
   "metadata": {},
   "source": [
    "## Objective\n",
    "\n",
    "* To learn to concatenate and reshape arrays."
   ]
  },
  {
   "cell_type": "markdown",
   "id": "c113e1ef-a668-457d-90a5-c01529de6734",
   "metadata": {},
   "source": [
    "1. Generate an array with integers from 1 to 50: array([1,...,50])"
   ]
  },
  {
   "cell_type": "code",
   "execution_count": 3,
   "id": "99bbd001-049a-4c93-bd87-53f271f5d0fc",
   "metadata": {},
   "outputs": [
    {
     "name": "stdout",
     "output_type": "stream",
     "text": [
      "numpy imported successfully\n"
     ]
    }
   ],
   "source": [
    "import numpy as np\n",
    "\n",
    "print(\"numpy imported successfully\")"
   ]
  },
  {
   "cell_type": "code",
   "execution_count": 15,
   "id": "1c7788f1-4d50-4693-8fbe-e3cd63b0ca6f",
   "metadata": {},
   "outputs": [
    {
     "name": "stdout",
     "output_type": "stream",
     "text": [
      "[ 1  2  3  4  5  6  7  8  9 10 11 12 13 14 15 16 17 18 19 20 21 22 23 24\n",
      " 25 26 27 28 29 30 31 32 33 34 35 36 37 38 39 40 41 42 43 44 45 46 47 48\n",
      " 49 50]\n"
     ]
    }
   ],
   "source": [
    "arr1 = np.arange(1, 51)\n",
    "\n",
    "print(arr1)"
   ]
  },
  {
   "cell_type": "markdown",
   "id": "70cdc038-c0bf-49b2-b85d-d9031886322a",
   "metadata": {},
   "source": [
    "2. Generate an array with integers from 51 to 100: array([51,...,100])"
   ]
  },
  {
   "cell_type": "code",
   "execution_count": 16,
   "id": "8015b12c-4884-458d-b029-4bbb4a79d671",
   "metadata": {},
   "outputs": [
    {
     "name": "stdout",
     "output_type": "stream",
     "text": [
      "[ 51  52  53  54  55  56  57  58  59  60  61  62  63  64  65  66  67  68\n",
      "  69  70  71  72  73  74  75  76  77  78  79  80  81  82  83  84  85  86\n",
      "  87  88  89  90  91  92  93  94  95  96  97  98  99 100]\n"
     ]
    }
   ],
   "source": [
    "arr2 = np.arange(51, 101)\n",
    "\n",
    "print(arr2)"
   ]
  },
  {
   "cell_type": "markdown",
   "id": "09ba6ad5-a7b3-4f77-a429-58f635e273a8",
   "metadata": {},
   "source": [
    "3. Using np.concatenate, concatenate the two arrays into: array([1,...,100])"
   ]
  },
  {
   "cell_type": "code",
   "execution_count": 19,
   "id": "04a7a39a-05d2-483e-8a71-bb6aed8a2b49",
   "metadata": {},
   "outputs": [
    {
     "name": "stdout",
     "output_type": "stream",
     "text": [
      "[  1   2   3   4   5   6   7   8   9  10  11  12  13  14  15  16  17  18\n",
      "  19  20  21  22  23  24  25  26  27  28  29  30  31  32  33  34  35  36\n",
      "  37  38  39  40  41  42  43  44  45  46  47  48  49  50  51  52  53  54\n",
      "  55  56  57  58  59  60  61  62  63  64  65  66  67  68  69  70  71  72\n",
      "  73  74  75  76  77  78  79  80  81  82  83  84  85  86  87  88  89  90\n",
      "  91  92  93  94  95  96  97  98  99 100]\n"
     ]
    }
   ],
   "source": [
    "arr3 = np.concatenate((arr1, arr2))\n",
    "\n",
    "print(arr3)"
   ]
  },
  {
   "cell_type": "markdown",
   "id": "f409f121-cc74-48af-9ff4-32fa3b8d904f",
   "metadata": {},
   "source": [
    "Reshape the previous array into:\n",
    "```\n",
    "[[  1   2   3   4   5   6   7   8   9  10]\n",
    " [ 11  12  13  14  15  16  17  18  19  20]\n",
    "                     ...\n",
    " [ 81  82  83  84  85  86  87  88  89  90]\n",
    " [ 91  92  93  94  95  96  97  98  99 100]]"
   ]
  },
  {
   "cell_type": "code",
   "execution_count": 23,
   "id": "052434d2-e7cf-44f5-83c0-bd09080787be",
   "metadata": {},
   "outputs": [
    {
     "name": "stdout",
     "output_type": "stream",
     "text": [
      "[[  1   2   3   4   5   6   7   8   9  10]\n",
      " [ 11  12  13  14  15  16  17  18  19  20]\n",
      " [ 21  22  23  24  25  26  27  28  29  30]\n",
      " [ 31  32  33  34  35  36  37  38  39  40]\n",
      " [ 41  42  43  44  45  46  47  48  49  50]\n",
      " [ 51  52  53  54  55  56  57  58  59  60]\n",
      " [ 61  62  63  64  65  66  67  68  69  70]\n",
      " [ 71  72  73  74  75  76  77  78  79  80]\n",
      " [ 81  82  83  84  85  86  87  88  89  90]\n",
      " [ 91  92  93  94  95  96  97  98  99 100]]\n"
     ]
    }
   ],
   "source": [
    "arr_reshape = arr3.reshape(10, 10)\n",
    "\n",
    "print(arr_reshape)"
   ]
  }
 ],
 "metadata": {
  "kernelspec": {
   "display_name": "Python 3 (ipykernel)",
   "language": "python",
   "name": "python3"
  },
  "language_info": {
   "codemirror_mode": {
    "name": "ipython",
    "version": 3
   },
   "file_extension": ".py",
   "mimetype": "text/x-python",
   "name": "python",
   "nbconvert_exporter": "python",
   "pygments_lexer": "ipython3",
   "version": "3.8.20"
  }
 },
 "nbformat": 4,
 "nbformat_minor": 5
}
